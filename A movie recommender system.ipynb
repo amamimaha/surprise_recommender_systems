{
 "cells": [
  {
   "cell_type": "markdown",
   "metadata": {
    "id": "yZE4FUsZTDbA"
   },
   "source": [
    "# Recommender Systems Project"
   ]
  },
  {
   "cell_type": "markdown",
   "metadata": {
    "id": "p0Pn6ov0TDbB"
   },
   "source": [
    "## 0. Quick Start\n",
    "To run this notebook you just need to have [pipenv](https://github.com/pypa/pipenv) installed.\n",
    "Then run these 3 commands:\n",
    "- first install the dependencies with: `pipenv install`\n",
    "- launch the virtual env: `pipenv shell`\n",
    "- finally start jupyter and open the notebook: `jupyter-lab`"
   ]
  },
  {
   "cell_type": "code",
   "execution_count": 1,
   "metadata": {
    "colab": {
     "base_uri": "https://localhost:8080/"
    },
    "executionInfo": {
     "elapsed": 34317,
     "status": "ok",
     "timestamp": 1625515300430,
     "user": {
      "displayName": "Marie Al Ghossein",
      "photoUrl": "https://lh3.googleusercontent.com/a-/AOh14GgCwcbXOEZjeWsYYBjZJ1ODZFuXDQve5hsNzc-m=s64",
      "userId": "03183643809622019919"
     },
     "user_tz": -120
    },
    "id": "4MODeQU0Tf6f",
    "outputId": "dfce1626-298f-440d-be56-3e57f4554074"
   },
   "outputs": [
    {
     "name": "stdout",
     "output_type": "stream",
     "text": [
      "Requirement already satisfied: surprise in c:\\users\\maha\\anaconda3\\envs\\venv\\lib\\site-packages (0.1)\n",
      "Requirement already satisfied: scikit-surprise in c:\\users\\maha\\anaconda3\\envs\\venv\\lib\\site-packages (from surprise) (1.1.1)\n",
      "Requirement already satisfied: six>=1.10.0 in c:\\users\\maha\\anaconda3\\envs\\venv\\lib\\site-packages (from scikit-surprise->surprise) (1.15.0)\n",
      "Requirement already satisfied: scipy>=1.0.0 in c:\\users\\maha\\anaconda3\\envs\\venv\\lib\\site-packages (from scikit-surprise->surprise) (1.7.0)\n",
      "Requirement already satisfied: joblib>=0.11 in c:\\users\\maha\\appdata\\roaming\\python\\python38\\site-packages (from scikit-surprise->surprise) (1.0.1)\n",
      "Requirement already satisfied: numpy>=1.11.2 in c:\\users\\maha\\anaconda3\\envs\\venv\\lib\\site-packages (from scikit-surprise->surprise) (1.20.2)\n",
      "Note: you may need to restart the kernel to use updated packages.\n"
     ]
    },
    {
     "name": "stderr",
     "output_type": "stream",
     "text": [
      "WARNING: You are using pip version 20.3.4; however, version 21.2.2 is available.\n",
      "You should consider upgrading via the 'C:\\Users\\Maha\\anaconda3\\envs\\venv\\python.exe -m pip install --upgrade pip' command.\n"
     ]
    }
   ],
   "source": [
    "\n",
    "pip install surprise"
   ]
  },
  {
   "cell_type": "code",
   "execution_count": 2,
   "metadata": {
    "id": "NooTDdZOTDbC"
   },
   "outputs": [],
   "source": [
    "from tqdm import tqdm\n",
    "import numpy as np\n",
    "import pandas as pd\n",
    "\n",
    "from sklearn.feature_extraction.text import TfidfVectorizer\n",
    "from sklearn.metrics.pairwise import linear_kernel \n",
    "\n",
    "from surprise import NormalPredictor, SVD, KNNBasic, NMF\n",
    "from surprise import Dataset, Reader\n",
    "from surprise import accuracy\n",
    "from surprise.model_selection import cross_validate, KFold"
   ]
  },
  {
   "cell_type": "markdown",
   "metadata": {
    "id": "gjDT2A50TDbG"
   },
   "source": [
    "## 1. Introduction\n",
    "Recommender systems goal is to push *relevant* items to a given user. Understanding and modelling the user's preferences is required to reach this goal. In this project you will learn how to model the user's preferences with the [Surprise library](http://surpriselib.com/) to build different recommender systems. The first one will be a pure *collaborative filtering* approach, and the second one will rely on item attributes in a *content-based* way."
   ]
  },
  {
   "cell_type": "markdown",
   "metadata": {
    "id": "36Z7GcLfTDbG"
   },
   "source": [
    "## 2. Loading Data\n",
    "We use here the [MovieLens dataset](https://grouplens.org/datasets/movielens/). It contains 25 millions of users ratings. the data are in the `./data/raw` folder. We could load directly the .csv file with [a built-in Surprise function](https://github.com/NicolasHug/Surprise/blob/ef3ed6e98304dbf8d033c8eee741294b05b5ba07/surprise/dataset.py#L105), but it's more convenient to load it through a Pandas dataframe for later flexibility purpose."
   ]
  },
  {
   "cell_type": "code",
   "execution_count": 3,
   "metadata": {
    "id": "zmPTqb_FTDbH"
   },
   "outputs": [],
   "source": [
    "RATINGS_DATA_FILE = './raw/ratings.csv'\n",
    "MOVIES_DATA_FILE = './raw/movies.csv'"
   ]
  },
  {
   "cell_type": "code",
   "execution_count": 4,
   "metadata": {
    "id": "hnB855KRTDbJ"
   },
   "outputs": [],
   "source": [
    "# load the raw csv into a data_frame\n",
    "df_ratings = pd.read_csv(RATINGS_DATA_FILE)\n",
    "\n",
    "# drop the timestamp column since we dont need it now\n",
    "df_ratings = df_ratings.drop(columns=\"timestamp\")\n",
    "\n",
    "# movies dataframe\n",
    "df_movies = pd.read_csv(MOVIES_DATA_FILE)"
   ]
  },
  {
   "cell_type": "code",
   "execution_count": 5,
   "metadata": {
    "id": "jVJsMrEuTDbM",
    "outputId": "918bab06-8b34-4378-ed40-b85a516a92de"
   },
   "outputs": [
    {
     "data": {
      "text/plain": [
       "25000095"
      ]
     },
     "execution_count": 5,
     "metadata": {},
     "output_type": "execute_result"
    }
   ],
   "source": [
    "# check we have 25M users' ratings\n",
    "df_ratings.userId.count()"
   ]
  },
  {
   "cell_type": "code",
   "execution_count": 6,
   "metadata": {
    "id": "fwjp-MU-TDbQ"
   },
   "outputs": [],
   "source": [
    "def get_subset(df, number):\n",
    "    \"\"\"\n",
    "        just get a subset of a large dataset for debug purpose\n",
    "    \"\"\"\n",
    "    rids = np.arange(df.shape[0])\n",
    "    np.random.shuffle(rids)\n",
    "    df_subset = df.iloc[rids[:number], :].copy()\n",
    "    return df_subset\n",
    "df_ratings_100k = get_subset(df_ratings, 1000)\n",
    "df_movies_100 = get_subset(df_movies, 100)"
   ]
  },
  {
   "cell_type": "code",
   "execution_count": 7,
   "metadata": {
    "id": "EAWC1dx9TDbS"
   },
   "outputs": [],
   "source": [
    "# Surprise reader\n",
    "reader = Reader(rating_scale=(0, 5))\n",
    "\n",
    "# Finally load all ratings\n",
    "ratings = Dataset.load_from_df(df_ratings_100k, reader)"
   ]
  },
  {
   "cell_type": "code",
   "execution_count": 8,
   "metadata": {},
   "outputs": [
    {
     "data": {
      "text/html": [
       "<div>\n",
       "<style scoped>\n",
       "    .dataframe tbody tr th:only-of-type {\n",
       "        vertical-align: middle;\n",
       "    }\n",
       "\n",
       "    .dataframe tbody tr th {\n",
       "        vertical-align: top;\n",
       "    }\n",
       "\n",
       "    .dataframe thead th {\n",
       "        text-align: right;\n",
       "    }\n",
       "</style>\n",
       "<table border=\"1\" class=\"dataframe\">\n",
       "  <thead>\n",
       "    <tr style=\"text-align: right;\">\n",
       "      <th></th>\n",
       "      <th>userId</th>\n",
       "      <th>movieId</th>\n",
       "      <th>rating</th>\n",
       "    </tr>\n",
       "  </thead>\n",
       "  <tbody>\n",
       "    <tr>\n",
       "      <th>19246771</th>\n",
       "      <td>124895</td>\n",
       "      <td>2</td>\n",
       "      <td>3.5</td>\n",
       "    </tr>\n",
       "    <tr>\n",
       "      <th>16256421</th>\n",
       "      <td>105421</td>\n",
       "      <td>316</td>\n",
       "      <td>4.0</td>\n",
       "    </tr>\n",
       "    <tr>\n",
       "      <th>3154882</th>\n",
       "      <td>20802</td>\n",
       "      <td>314</td>\n",
       "      <td>5.0</td>\n",
       "    </tr>\n",
       "    <tr>\n",
       "      <th>14595260</th>\n",
       "      <td>94463</td>\n",
       "      <td>225</td>\n",
       "      <td>4.0</td>\n",
       "    </tr>\n",
       "    <tr>\n",
       "      <th>16890268</th>\n",
       "      <td>109519</td>\n",
       "      <td>500</td>\n",
       "      <td>3.0</td>\n",
       "    </tr>\n",
       "  </tbody>\n",
       "</table>\n",
       "</div>"
      ],
      "text/plain": [
       "          userId  movieId  rating\n",
       "19246771  124895        2     3.5\n",
       "16256421  105421      316     4.0\n",
       "3154882    20802      314     5.0\n",
       "14595260   94463      225     4.0\n",
       "16890268  109519      500     3.0"
      ]
     },
     "execution_count": 8,
     "metadata": {},
     "output_type": "execute_result"
    }
   ],
   "source": [
    "df_ratings_100k.head(5)"
   ]
  },
  {
   "cell_type": "markdown",
   "metadata": {
    "id": "FraqKt7hTDbU"
   },
   "source": [
    "## 3. Collaborative Filtering\n",
    "We can test first any of the [Surprise algorithms](https://surprise.readthedocs.io/en/stable/prediction_algorithms_package.html)."
   ]
  },
  {
   "cell_type": "code",
   "execution_count": 9,
   "metadata": {
    "id": "2QQASBfcTDbV"
   },
   "outputs": [],
   "source": [
    "# define a cross-validation iterator\n",
    "kf = KFold(n_splits=3)\n",
    "\n",
    "algos = [SVD(), NMF(), KNNBasic()]    "
   ]
  },
  {
   "cell_type": "code",
   "execution_count": 10,
   "metadata": {
    "id": "vkUTsvHgTDbX",
    "outputId": "1b26bff2-a89a-423e-f5a8-6170e2c557eb"
   },
   "outputs": [
    {
     "name": "stderr",
     "output_type": "stream",
     "text": [
      "0it [00:00, ?it/s]"
     ]
    },
    {
     "name": "stdout",
     "output_type": "stream",
     "text": [
      "RMSE: 0.9837\n"
     ]
    },
    {
     "name": "stderr",
     "output_type": "stream",
     "text": [
      "1it [00:00,  2.37it/s]"
     ]
    },
    {
     "name": "stdout",
     "output_type": "stream",
     "text": [
      "RMSE: 0.9970\n",
      "Computing the msd similarity matrix...\n",
      "Done computing similarity matrix.\n",
      "RMSE: 0.9870\n",
      "RMSE: 1.1373\n"
     ]
    },
    {
     "name": "stderr",
     "output_type": "stream",
     "text": [
      "2it [00:00,  2.18it/s]"
     ]
    },
    {
     "name": "stdout",
     "output_type": "stream",
     "text": [
      "RMSE: 1.1433\n",
      "Computing the msd similarity matrix...\n",
      "Done computing similarity matrix.\n",
      "RMSE: 1.1433\n",
      "RMSE: 1.0262\n"
     ]
    },
    {
     "name": "stderr",
     "output_type": "stream",
     "text": [
      "3it [00:01,  2.04it/s]"
     ]
    },
    {
     "name": "stdout",
     "output_type": "stream",
     "text": [
      "RMSE: 1.0294\n",
      "Computing the msd similarity matrix...\n",
      "Done computing similarity matrix.\n",
      "RMSE: 1.0294\n"
     ]
    },
    {
     "name": "stderr",
     "output_type": "stream",
     "text": [
      "\n"
     ]
    }
   ],
   "source": [
    "def get_rmse(algo, testset):\n",
    "        predictions = algo.test(testset)\n",
    "        accuracy.rmse(predictions, verbose=True)\n",
    "        \n",
    "for trainset, testset in tqdm(kf.split(ratings)): \n",
    "    \"\"\"\n",
    "        get an evaluation with cross-validation for different algorithms\n",
    "    \"\"\"  \n",
    "    for algo in algos:\n",
    "        algo.fit(trainset)\n",
    "        get_rmse(algo, testset)"
   ]
  },
  {
   "cell_type": "markdown",
   "metadata": {
    "id": "-Dom6XI9TDbZ"
   },
   "source": [
    "## 4. Content-based Filtering\n",
    "Here we will rely directly on items attributes. First we have to describe a user profile with an attributes vector. Then we will use these vectors to generate recommendations."
   ]
  },
  {
   "cell_type": "code",
   "execution_count": 11,
   "metadata": {
    "id": "qinBp3urTDba",
    "outputId": "9ca29271-3a19-4884-ec98-45c9ef7e1a15"
   },
   "outputs": [],
   "source": [
    "# computing similarities requires too much ressources on the whole dataset, so we take the subset with 100 items\n",
    "df_movies_100 = df_movies_100.reset_index(drop=True)"
   ]
  },
  {
   "cell_type": "code",
   "execution_count": 12,
   "metadata": {
    "id": "erSkCS9dTDbc"
   },
   "outputs": [],
   "source": [
    "# we compute a TFIDF on the titles of the movies\n",
    "tf = TfidfVectorizer(analyzer='word', ngram_range=(1, 3), min_df=0, stop_words='english')\n",
    "tfidf_matrix = tf.fit_transform(df_movies_100['title'])"
   ]
  },
  {
   "cell_type": "code",
   "execution_count": 13,
   "metadata": {
    "id": "89bo1QRJTDbe"
   },
   "outputs": [],
   "source": [
    "# we get cosine similarities: this takes a lot of time on the real dataset\n",
    "cosine_similarities = linear_kernel(tfidf_matrix, tfidf_matrix)"
   ]
  },
  {
   "cell_type": "code",
   "execution_count": 14,
   "metadata": {
    "id": "JBfSq_MXTDbh"
   },
   "outputs": [],
   "source": [
    "# we generate in 'results' the most similar movies for each movie: we put a pair (score, movie_id)\n",
    "results = {}\n",
    "for idx, row in df_movies_100.iterrows():\n",
    "    similar_indices = cosine_similarities[idx].argsort()[:-100:-1] \n",
    "    similar_items = [(cosine_similarities[idx][i], df_movies_100['movieId'].loc[[i]].tolist()[0]) for i in similar_indices] \n",
    "    results[idx] = similar_items[1:]"
   ]
  },
  {
   "cell_type": "code",
   "execution_count": 15,
   "metadata": {
    "id": "dx1NXKXDTDbl"
   },
   "outputs": [],
   "source": [
    "# transform a 'movieId' into its corresponding movie title\n",
    "def item(id):  \n",
    "    return df_movies_100.loc[df_movies_100['movieId'] == id]['title'].tolist()[0].split(' - ')[0] "
   ]
  },
  {
   "cell_type": "code",
   "execution_count": 16,
   "metadata": {
    "id": "S9-fOls1TDbn"
   },
   "outputs": [],
   "source": [
    "# transform a 'movieId' into the index id\n",
    "def get_idx(id):\n",
    "    return df_movies_100[df_movies_100['movieId'] == id].index.tolist()[0]"
   ]
  },
  {
   "cell_type": "code",
   "execution_count": 17,
   "metadata": {
    "id": "8_WRVRXUTDbp"
   },
   "outputs": [],
   "source": [
    "# Finally we put everything together here:\n",
    "def recommend(item_id, num):\n",
    "    print(\"Recommending \" + str(num) + \" products similar to \" + item(item_id) + \"...\")   \n",
    "    print(\"-------\")    \n",
    "    recs = results[get_idx(item_id)][:num]   \n",
    "    for rec in recs: \n",
    "        print(\"\\tRecommended: \" + item(rec[1]) + \" (score:\" +      str(rec[0]) + \")\")"
   ]
  },
  {
   "cell_type": "code",
   "execution_count": 19,
   "metadata": {},
   "outputs": [
    {
     "data": {
      "text/html": [
       "<div>\n",
       "<style scoped>\n",
       "    .dataframe tbody tr th:only-of-type {\n",
       "        vertical-align: middle;\n",
       "    }\n",
       "\n",
       "    .dataframe tbody tr th {\n",
       "        vertical-align: top;\n",
       "    }\n",
       "\n",
       "    .dataframe thead th {\n",
       "        text-align: right;\n",
       "    }\n",
       "</style>\n",
       "<table border=\"1\" class=\"dataframe\">\n",
       "  <thead>\n",
       "    <tr style=\"text-align: right;\">\n",
       "      <th></th>\n",
       "      <th>movieId</th>\n",
       "      <th>title</th>\n",
       "      <th>genres</th>\n",
       "    </tr>\n",
       "  </thead>\n",
       "  <tbody>\n",
       "    <tr>\n",
       "      <th>0</th>\n",
       "      <td>137236</td>\n",
       "      <td>Whistle and I'll Come to You (2010)</td>\n",
       "      <td>Horror</td>\n",
       "    </tr>\n",
       "    <tr>\n",
       "      <th>1</th>\n",
       "      <td>3220</td>\n",
       "      <td>Night Tide (1961)</td>\n",
       "      <td>Drama</td>\n",
       "    </tr>\n",
       "    <tr>\n",
       "      <th>2</th>\n",
       "      <td>161578</td>\n",
       "      <td>Poison Berry in my Brain (2015)</td>\n",
       "      <td>Comedy|Romance</td>\n",
       "    </tr>\n",
       "    <tr>\n",
       "      <th>3</th>\n",
       "      <td>203369</td>\n",
       "      <td>A Ship to India (1947)</td>\n",
       "      <td>Drama</td>\n",
       "    </tr>\n",
       "    <tr>\n",
       "      <th>4</th>\n",
       "      <td>93272</td>\n",
       "      <td>Dr. Seuss' The Lorax (2012)</td>\n",
       "      <td>Animation|Fantasy|Musical|IMAX</td>\n",
       "    </tr>\n",
       "  </tbody>\n",
       "</table>\n",
       "</div>"
      ],
      "text/plain": [
       "   movieId                                title  \\\n",
       "0   137236  Whistle and I'll Come to You (2010)   \n",
       "1     3220                    Night Tide (1961)   \n",
       "2   161578      Poison Berry in my Brain (2015)   \n",
       "3   203369               A Ship to India (1947)   \n",
       "4    93272          Dr. Seuss' The Lorax (2012)   \n",
       "\n",
       "                           genres  \n",
       "0                          Horror  \n",
       "1                           Drama  \n",
       "2                  Comedy|Romance  \n",
       "3                           Drama  \n",
       "4  Animation|Fantasy|Musical|IMAX  "
      ]
     },
     "execution_count": 19,
     "metadata": {},
     "output_type": "execute_result"
    }
   ],
   "source": [
    "df_movies_100.head()"
   ]
  },
  {
   "cell_type": "markdown",
   "metadata": {
    "id": "ruDiCPsDTDbr"
   },
   "source": [
    "Suppose a user wants the 10 most 'similar' (from a CBF point of view) movies from the movie 'Alley Cats Strike':"
   ]
  },
  {
   "cell_type": "code",
   "execution_count": 20,
   "metadata": {
    "id": "9oH_oVvmTDbr",
    "outputId": "bf915e8b-ae84-49bc-f80c-e09b64aa953d"
   },
   "outputs": [
    {
     "name": "stdout",
     "output_type": "stream",
     "text": [
      "Recommending 10 products similar to Whistle and I'll Come to You (2010)...\n",
      "-------\n",
      "\tRecommended: 4.3.2.1 (2010) (score:0.2765157737468538)\n",
      "\tRecommended: Wild Things: Foursome (2010) (score:0.07646097313082126)\n",
      "\tRecommended: Our Life (La nostra vita) (2010) (score:0.06664922150009672)\n",
      "\tRecommended: Black House (2007) (score:0.0)\n",
      "\tRecommended: The Bullet Vanishes (2012) (score:0.0)\n",
      "\tRecommended: Alabama's Ghost (1973) (score:0.0)\n",
      "\tRecommended: Nowhere Mind (2018) (score:0.0)\n",
      "\tRecommended: The Wolf House (2018) (score:0.0)\n",
      "\tRecommended: Strange Powers: Stephin Merritt and the Magnetic Fields (2011) (score:0.0)\n",
      "\tRecommended: Freerunner (2011) (score:0.0)\n"
     ]
    }
   ],
   "source": [
    "recommend(item_id=137236, num=10)"
   ]
  }
 ],
 "metadata": {
  "colab": {
   "collapsed_sections": [],
   "name": "1_Demo.ipynb",
   "provenance": []
  },
  "kernelspec": {
   "display_name": "Python 3",
   "language": "python",
   "name": "python3"
  },
  "language_info": {
   "codemirror_mode": {
    "name": "ipython",
    "version": 3
   },
   "file_extension": ".py",
   "mimetype": "text/x-python",
   "name": "python",
   "nbconvert_exporter": "python",
   "pygments_lexer": "ipython3",
   "version": "3.8.10"
  }
 },
 "nbformat": 4,
 "nbformat_minor": 1
}
