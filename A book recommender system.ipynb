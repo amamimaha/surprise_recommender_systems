{
 "cells": [
  {
   "cell_type": "code",
   "execution_count": 1,
   "metadata": {
    "colab": {
     "base_uri": "https://localhost:8080/"
    },
    "executionInfo": {
     "elapsed": 34317,
     "status": "ok",
     "timestamp": 1625515300430,
     "user": {
      "displayName": "Marie Al Ghossein",
      "photoUrl": "https://lh3.googleusercontent.com/a-/AOh14GgCwcbXOEZjeWsYYBjZJ1ODZFuXDQve5hsNzc-m=s64",
      "userId": "03183643809622019919"
     },
     "user_tz": -120
    },
    "id": "4MODeQU0Tf6f",
    "outputId": "dfce1626-298f-440d-be56-3e57f4554074"
   },
   "outputs": [
    {
     "name": "stdout",
     "output_type": "stream",
     "text": [
      "Requirement already satisfied: surprise in c:\\users\\maha\\anaconda3\\envs\\venv\\lib\\site-packages (0.1)\n",
      "Requirement already satisfied: scikit-surprise in c:\\users\\maha\\anaconda3\\envs\\venv\\lib\\site-packages (from surprise) (1.1.1)\n",
      "Requirement already satisfied: six>=1.10.0 in c:\\users\\maha\\anaconda3\\envs\\venv\\lib\\site-packages (from scikit-surprise->surprise) (1.15.0)\n",
      "Requirement already satisfied: numpy>=1.11.2 in c:\\users\\maha\\anaconda3\\envs\\venv\\lib\\site-packages (from scikit-surprise->surprise) (1.20.2)\n",
      "Requirement already satisfied: scipy>=1.0.0 in c:\\users\\maha\\anaconda3\\envs\\venv\\lib\\site-packages (from scikit-surprise->surprise) (1.7.0)\n",
      "Requirement already satisfied: joblib>=0.11 in c:\\users\\maha\\appdata\\roaming\\python\\python38\\site-packages (from scikit-surprise->surprise) (1.0.1)\n",
      "Note: you may need to restart the kernel to use updated packages.\n"
     ]
    },
    {
     "name": "stderr",
     "output_type": "stream",
     "text": [
      "WARNING: You are using pip version 20.3.4; however, version 21.2.2 is available.\n",
      "You should consider upgrading via the 'C:\\Users\\Maha\\anaconda3\\envs\\venv\\python.exe -m pip install --upgrade pip' command.\n"
     ]
    }
   ],
   "source": [
    "\n",
    "pip install surprise"
   ]
  },
  {
   "cell_type": "code",
   "execution_count": 2,
   "metadata": {
    "id": "NooTDdZOTDbC"
   },
   "outputs": [],
   "source": [
    "from tqdm import tqdm\n",
    "import numpy as np\n",
    "import pandas as pd\n",
    "\n",
    "from sklearn.feature_extraction.text import TfidfVectorizer\n",
    "from sklearn.metrics.pairwise import linear_kernel \n",
    "\n",
    "from surprise import NormalPredictor, SVD, KNNBasic, NMF\n",
    "from surprise import Dataset, Reader\n",
    "from surprise import accuracy\n",
    "from surprise.model_selection import cross_validate, KFold"
   ]
  },
  {
   "cell_type": "markdown",
   "metadata": {
    "id": "gjDT2A50TDbG"
   },
   "source": [
    "## 1. Introduction\n",
    "Recommender systems goal is to push *relevant* items to a given user. Understanding and modelling the user's preferences is required to reach this goal. In this project you will learn how to model the user's preferences with the [Surprise library](http://surpriselib.com/) to build different recommender systems. The first one will be a pure *collaborative filtering* approach, and the second one will rely on item attributes in a *content-based* way."
   ]
  },
  {
   "cell_type": "markdown",
   "metadata": {
    "id": "36Z7GcLfTDbG"
   },
   "source": [
    "## 2. Loading Data\n"
   ]
  },
  {
   "cell_type": "code",
   "execution_count": 3,
   "metadata": {
    "id": "zmPTqb_FTDbH"
   },
   "outputs": [],
   "source": [
    "RATINGS_DATA_FILE = './data/ratings.csv'\n",
    "BOOKS_DATA_FILE = './data/books.csv'"
   ]
  },
  {
   "cell_type": "code",
   "execution_count": 4,
   "metadata": {
    "id": "hnB855KRTDbJ"
   },
   "outputs": [],
   "source": [
    "# load the raw csv into a data_frame\n",
    "df_ratings = pd.read_csv(RATINGS_DATA_FILE)\n",
    "\n",
    "\n",
    "# movies dataframe\n",
    "df_books = pd.read_csv(BOOKS_DATA_FILE)"
   ]
  },
  {
   "cell_type": "code",
   "execution_count": 5,
   "metadata": {},
   "outputs": [
    {
     "data": {
      "text/html": [
       "<div>\n",
       "<style scoped>\n",
       "    .dataframe tbody tr th:only-of-type {\n",
       "        vertical-align: middle;\n",
       "    }\n",
       "\n",
       "    .dataframe tbody tr th {\n",
       "        vertical-align: top;\n",
       "    }\n",
       "\n",
       "    .dataframe thead th {\n",
       "        text-align: right;\n",
       "    }\n",
       "</style>\n",
       "<table border=\"1\" class=\"dataframe\">\n",
       "  <thead>\n",
       "    <tr style=\"text-align: right;\">\n",
       "      <th></th>\n",
       "      <th>book_id</th>\n",
       "      <th>user_id</th>\n",
       "      <th>rating</th>\n",
       "    </tr>\n",
       "  </thead>\n",
       "  <tbody>\n",
       "    <tr>\n",
       "      <th>0</th>\n",
       "      <td>1</td>\n",
       "      <td>314</td>\n",
       "      <td>5</td>\n",
       "    </tr>\n",
       "    <tr>\n",
       "      <th>1</th>\n",
       "      <td>1</td>\n",
       "      <td>439</td>\n",
       "      <td>3</td>\n",
       "    </tr>\n",
       "    <tr>\n",
       "      <th>2</th>\n",
       "      <td>1</td>\n",
       "      <td>588</td>\n",
       "      <td>5</td>\n",
       "    </tr>\n",
       "    <tr>\n",
       "      <th>3</th>\n",
       "      <td>1</td>\n",
       "      <td>1169</td>\n",
       "      <td>4</td>\n",
       "    </tr>\n",
       "    <tr>\n",
       "      <th>4</th>\n",
       "      <td>1</td>\n",
       "      <td>1185</td>\n",
       "      <td>4</td>\n",
       "    </tr>\n",
       "  </tbody>\n",
       "</table>\n",
       "</div>"
      ],
      "text/plain": [
       "   book_id  user_id  rating\n",
       "0        1      314       5\n",
       "1        1      439       3\n",
       "2        1      588       5\n",
       "3        1     1169       4\n",
       "4        1     1185       4"
      ]
     },
     "execution_count": 5,
     "metadata": {},
     "output_type": "execute_result"
    }
   ],
   "source": [
    "df_ratings.head()"
   ]
  },
  {
   "cell_type": "code",
   "execution_count": 6,
   "metadata": {
    "id": "jVJsMrEuTDbM",
    "outputId": "918bab06-8b34-4378-ed40-b85a516a92de"
   },
   "outputs": [
    {
     "data": {
      "text/plain": [
       "981756"
      ]
     },
     "execution_count": 6,
     "metadata": {},
     "output_type": "execute_result"
    }
   ],
   "source": [
    "# check we have 25M users' ratings\n",
    "df_ratings.user_id.count()"
   ]
  },
  {
   "cell_type": "code",
   "execution_count": 7,
   "metadata": {
    "id": "fwjp-MU-TDbQ"
   },
   "outputs": [],
   "source": [
    "def get_subset(df, number):\n",
    "    \"\"\"\n",
    "        just get a subset of a large dataset for debug purpose\n",
    "    \"\"\"\n",
    "    rids = np.arange(df.shape[0])\n",
    "    np.random.shuffle(rids)\n",
    "    df_subset = df.iloc[rids[:number], :].copy()\n",
    "    return df_subset\n",
    "df_ratings_100k = get_subset(df_ratings, 100000)\n",
    "df_books_1000 = get_subset(df_books, 1000)"
   ]
  },
  {
   "cell_type": "code",
   "execution_count": 8,
   "metadata": {
    "id": "EAWC1dx9TDbS"
   },
   "outputs": [],
   "source": [
    "# Surprise reader\n",
    "reader = Reader(rating_scale=(0, 5))\n",
    "\n",
    "# Finally load all ratings\n",
    "ratings = Dataset.load_from_df(df_ratings_100k, reader)"
   ]
  },
  {
   "cell_type": "code",
   "execution_count": 9,
   "metadata": {},
   "outputs": [
    {
     "data": {
      "text/html": [
       "<div>\n",
       "<style scoped>\n",
       "    .dataframe tbody tr th:only-of-type {\n",
       "        vertical-align: middle;\n",
       "    }\n",
       "\n",
       "    .dataframe tbody tr th {\n",
       "        vertical-align: top;\n",
       "    }\n",
       "\n",
       "    .dataframe thead th {\n",
       "        text-align: right;\n",
       "    }\n",
       "</style>\n",
       "<table border=\"1\" class=\"dataframe\">\n",
       "  <thead>\n",
       "    <tr style=\"text-align: right;\">\n",
       "      <th></th>\n",
       "      <th>book_id</th>\n",
       "      <th>user_id</th>\n",
       "      <th>rating</th>\n",
       "    </tr>\n",
       "  </thead>\n",
       "  <tbody>\n",
       "    <tr>\n",
       "      <th>490137</th>\n",
       "      <td>4913</td>\n",
       "      <td>30255</td>\n",
       "      <td>3</td>\n",
       "    </tr>\n",
       "    <tr>\n",
       "      <th>31123</th>\n",
       "      <td>312</td>\n",
       "      <td>11287</td>\n",
       "      <td>4</td>\n",
       "    </tr>\n",
       "    <tr>\n",
       "      <th>117643</th>\n",
       "      <td>1177</td>\n",
       "      <td>31242</td>\n",
       "      <td>4</td>\n",
       "    </tr>\n",
       "    <tr>\n",
       "      <th>831729</th>\n",
       "      <td>8405</td>\n",
       "      <td>170</td>\n",
       "      <td>3</td>\n",
       "    </tr>\n",
       "    <tr>\n",
       "      <th>101895</th>\n",
       "      <td>1019</td>\n",
       "      <td>52937</td>\n",
       "      <td>4</td>\n",
       "    </tr>\n",
       "  </tbody>\n",
       "</table>\n",
       "</div>"
      ],
      "text/plain": [
       "        book_id  user_id  rating\n",
       "490137     4913    30255       3\n",
       "31123       312    11287       4\n",
       "117643     1177    31242       4\n",
       "831729     8405      170       3\n",
       "101895     1019    52937       4"
      ]
     },
     "execution_count": 9,
     "metadata": {},
     "output_type": "execute_result"
    }
   ],
   "source": [
    "df_ratings_100k.head(5)"
   ]
  },
  {
   "cell_type": "markdown",
   "metadata": {
    "id": "FraqKt7hTDbU"
   },
   "source": [
    "## 3. Collaborative Filtering\n",
    "We can test first any of the [Surprise algorithms](https://surprise.readthedocs.io/en/stable/prediction_algorithms_package.html)."
   ]
  },
  {
   "cell_type": "code",
   "execution_count": 10,
   "metadata": {
    "id": "2QQASBfcTDbV"
   },
   "outputs": [],
   "source": [
    "# define a cross-validation iterator\n",
    "kf = KFold(n_splits=3)\n",
    "\n",
    "algos = [SVD(), NMF(), KNNBasic()]    "
   ]
  },
  {
   "cell_type": "code",
   "execution_count": 11,
   "metadata": {
    "id": "vkUTsvHgTDbX",
    "outputId": "1b26bff2-a89a-423e-f5a8-6170e2c557eb"
   },
   "outputs": [
    {
     "name": "stderr",
     "output_type": "stream",
     "text": [
      "0it [00:00, ?it/s]"
     ]
    },
    {
     "name": "stdout",
     "output_type": "stream",
     "text": [
      "RMSE: 0.9255\n",
      "RMSE: 1.1084\n",
      "Computing the msd similarity matrix...\n",
      "Done computing similarity matrix.\n"
     ]
    },
    {
     "name": "stderr",
     "output_type": "stream",
     "text": [
      "1it [00:37, 37.23s/it]"
     ]
    },
    {
     "name": "stdout",
     "output_type": "stream",
     "text": [
      "RMSE: 0.9875\n",
      "RMSE: 0.9309\n",
      "RMSE: 1.1065\n",
      "Computing the msd similarity matrix...\n",
      "Done computing similarity matrix.\n"
     ]
    },
    {
     "name": "stderr",
     "output_type": "stream",
     "text": [
      "2it [01:16, 38.69s/it]"
     ]
    },
    {
     "name": "stdout",
     "output_type": "stream",
     "text": [
      "RMSE: 0.9926\n",
      "RMSE: 0.9282\n",
      "RMSE: 1.1074\n",
      "Computing the msd similarity matrix...\n",
      "Done computing similarity matrix.\n"
     ]
    },
    {
     "name": "stderr",
     "output_type": "stream",
     "text": [
      "3it [01:55, 38.46s/it]"
     ]
    },
    {
     "name": "stdout",
     "output_type": "stream",
     "text": [
      "RMSE: 0.9915\n"
     ]
    },
    {
     "name": "stderr",
     "output_type": "stream",
     "text": [
      "\n"
     ]
    }
   ],
   "source": [
    "def get_rmse(algo, testset):\n",
    "        predictions = algo.test(testset)\n",
    "        accuracy.rmse(predictions, verbose=True)\n",
    "        \n",
    "for trainset, testset in tqdm(kf.split(ratings)): \n",
    "    \"\"\"\n",
    "        get an evaluation with cross-validation for different algorithms\n",
    "    \"\"\"  \n",
    "    for algo in algos:\n",
    "        algo.fit(trainset)\n",
    "        get_rmse(algo, testset)"
   ]
  },
  {
   "cell_type": "markdown",
   "metadata": {
    "id": "-Dom6XI9TDbZ"
   },
   "source": [
    "## 4. Content-based Filtering\n",
    "Here we will rely directly on items attributes. First we have to describe a user profile with an attributes vector. Then we will use these vectors to generate recommendations."
   ]
  },
  {
   "cell_type": "code",
   "execution_count": 12,
   "metadata": {
    "id": "qinBp3urTDba",
    "outputId": "9ca29271-3a19-4884-ec98-45c9ef7e1a15"
   },
   "outputs": [],
   "source": [
    "# computing similarities requires too much ressources on the whole dataset, so we take the subset with 100 items\n",
    "df_books_1000 = df_books_1000.reset_index(drop=True)\n",
    "df_books_1000.head(5)\n",
    "df_books_1000 = df_books_1000.dropna()\n",
    "df_books_1000 = df_books_1000.reset_index(drop=True)"
   ]
  },
  {
   "cell_type": "code",
   "execution_count": 13,
   "metadata": {
    "id": "erSkCS9dTDbc"
   },
   "outputs": [],
   "source": [
    "# we compute a TFIDF on the titles of the movies\n",
    "tf = TfidfVectorizer(analyzer='word', ngram_range=(1, 3), min_df=0, stop_words='english')\n",
    "tfidf_matrix = tf.fit_transform(df_books_1000['original_title'])"
   ]
  },
  {
   "cell_type": "code",
   "execution_count": 14,
   "metadata": {
    "id": "89bo1QRJTDbe"
   },
   "outputs": [],
   "source": [
    "# we get cosine similarities: this takes a lot of time on the real dataset\n",
    "cosine_similarities = linear_kernel(tfidf_matrix, tfidf_matrix)"
   ]
  },
  {
   "cell_type": "code",
   "execution_count": 15,
   "metadata": {
    "id": "JBfSq_MXTDbh"
   },
   "outputs": [],
   "source": [
    "# we generate in 'results' the most similar movies for each movie: we put a pair (score, movie_id)\n",
    "results = {}\n",
    "for idx, row in df_books_1000.iterrows():\n",
    "    similar_indices = cosine_similarities[idx].argsort()[:-100:-1] \n",
    "    similar_items = [(cosine_similarities[idx][i], df_books_1000['book_id'].iloc[[i]].tolist()[0]) for i in similar_indices] \n",
    "    results[idx] = similar_items[1:]"
   ]
  },
  {
   "cell_type": "code",
   "execution_count": 16,
   "metadata": {
    "id": "dx1NXKXDTDbl"
   },
   "outputs": [],
   "source": [
    "# transform a 'movieId' into its corresponding movie title\n",
    "def item(id):  \n",
    "    return df_books_1000.loc[df_books_1000['book_id'] == id]['original_title'].tolist()[0].split(' - ')[0] "
   ]
  },
  {
   "cell_type": "code",
   "execution_count": 17,
   "metadata": {
    "id": "S9-fOls1TDbn"
   },
   "outputs": [],
   "source": [
    "# transform a 'movieId' into the index id\n",
    "def get_idx(id):\n",
    "    return df_books_1000[df_books_1000['book_id'] == id].index.tolist()[0]"
   ]
  },
  {
   "cell_type": "code",
   "execution_count": 18,
   "metadata": {
    "id": "8_WRVRXUTDbp"
   },
   "outputs": [],
   "source": [
    "# Finally we put everything together here:\n",
    "def recommend(item_id, num):\n",
    "    print(\"Recommending \" + str(num) + \" products similar to \" + item(item_id) + \"...\")   \n",
    "    print(\"-------\")    \n",
    "    recs = results[get_idx(item_id)][:num]   \n",
    "    for rec in recs: \n",
    "        print(\"\\tRecommended: \" + item(rec[1]) + \" (score:\" +      str(rec[0]) + \")\")"
   ]
  },
  {
   "cell_type": "code",
   "execution_count": 19,
   "metadata": {},
   "outputs": [
    {
     "data": {
      "text/html": [
       "<div>\n",
       "<style scoped>\n",
       "    .dataframe tbody tr th:only-of-type {\n",
       "        vertical-align: middle;\n",
       "    }\n",
       "\n",
       "    .dataframe tbody tr th {\n",
       "        vertical-align: top;\n",
       "    }\n",
       "\n",
       "    .dataframe thead th {\n",
       "        text-align: right;\n",
       "    }\n",
       "</style>\n",
       "<table border=\"1\" class=\"dataframe\">\n",
       "  <thead>\n",
       "    <tr style=\"text-align: right;\">\n",
       "      <th></th>\n",
       "      <th>book_id</th>\n",
       "      <th>user_id</th>\n",
       "      <th>rating</th>\n",
       "    </tr>\n",
       "  </thead>\n",
       "  <tbody>\n",
       "    <tr>\n",
       "      <th>490137</th>\n",
       "      <td>4913</td>\n",
       "      <td>30255</td>\n",
       "      <td>3</td>\n",
       "    </tr>\n",
       "    <tr>\n",
       "      <th>31123</th>\n",
       "      <td>312</td>\n",
       "      <td>11287</td>\n",
       "      <td>4</td>\n",
       "    </tr>\n",
       "    <tr>\n",
       "      <th>117643</th>\n",
       "      <td>1177</td>\n",
       "      <td>31242</td>\n",
       "      <td>4</td>\n",
       "    </tr>\n",
       "    <tr>\n",
       "      <th>831729</th>\n",
       "      <td>8405</td>\n",
       "      <td>170</td>\n",
       "      <td>3</td>\n",
       "    </tr>\n",
       "    <tr>\n",
       "      <th>101895</th>\n",
       "      <td>1019</td>\n",
       "      <td>52937</td>\n",
       "      <td>4</td>\n",
       "    </tr>\n",
       "  </tbody>\n",
       "</table>\n",
       "</div>"
      ],
      "text/plain": [
       "        book_id  user_id  rating\n",
       "490137     4913    30255       3\n",
       "31123       312    11287       4\n",
       "117643     1177    31242       4\n",
       "831729     8405      170       3\n",
       "101895     1019    52937       4"
      ]
     },
     "execution_count": 19,
     "metadata": {},
     "output_type": "execute_result"
    }
   ],
   "source": [
    "df_ratings_100k.head()"
   ]
  },
  {
   "cell_type": "code",
   "execution_count": 20,
   "metadata": {},
   "outputs": [
    {
     "data": {
      "text/html": [
       "<div>\n",
       "<style scoped>\n",
       "    .dataframe tbody tr th:only-of-type {\n",
       "        vertical-align: middle;\n",
       "    }\n",
       "\n",
       "    .dataframe tbody tr th {\n",
       "        vertical-align: top;\n",
       "    }\n",
       "\n",
       "    .dataframe thead th {\n",
       "        text-align: right;\n",
       "    }\n",
       "</style>\n",
       "<table border=\"1\" class=\"dataframe\">\n",
       "  <thead>\n",
       "    <tr style=\"text-align: right;\">\n",
       "      <th></th>\n",
       "      <th>id</th>\n",
       "      <th>book_id</th>\n",
       "      <th>best_book_id</th>\n",
       "      <th>work_id</th>\n",
       "      <th>books_count</th>\n",
       "      <th>isbn</th>\n",
       "      <th>isbn13</th>\n",
       "      <th>authors</th>\n",
       "      <th>original_publication_year</th>\n",
       "      <th>original_title</th>\n",
       "      <th>...</th>\n",
       "      <th>ratings_count</th>\n",
       "      <th>work_ratings_count</th>\n",
       "      <th>work_text_reviews_count</th>\n",
       "      <th>ratings_1</th>\n",
       "      <th>ratings_2</th>\n",
       "      <th>ratings_3</th>\n",
       "      <th>ratings_4</th>\n",
       "      <th>ratings_5</th>\n",
       "      <th>image_url</th>\n",
       "      <th>small_image_url</th>\n",
       "    </tr>\n",
       "  </thead>\n",
       "  <tbody>\n",
       "    <tr>\n",
       "      <th>0</th>\n",
       "      <td>1618</td>\n",
       "      <td>95617</td>\n",
       "      <td>95617</td>\n",
       "      <td>883913</td>\n",
       "      <td>36</td>\n",
       "      <td>842377506</td>\n",
       "      <td>9.780842e+12</td>\n",
       "      <td>Francine Rivers, Richard Ferrone</td>\n",
       "      <td>1993.0</td>\n",
       "      <td>A Voice in the Wind</td>\n",
       "      <td>...</td>\n",
       "      <td>55556</td>\n",
       "      <td>56920</td>\n",
       "      <td>2647</td>\n",
       "      <td>680</td>\n",
       "      <td>903</td>\n",
       "      <td>3382</td>\n",
       "      <td>10680</td>\n",
       "      <td>41275</td>\n",
       "      <td>https://images.gr-assets.com/books/1459567327m...</td>\n",
       "      <td>https://images.gr-assets.com/books/1459567327s...</td>\n",
       "    </tr>\n",
       "    <tr>\n",
       "      <th>1</th>\n",
       "      <td>1635</td>\n",
       "      <td>766955</td>\n",
       "      <td>766955</td>\n",
       "      <td>434352</td>\n",
       "      <td>39</td>\n",
       "      <td>689832133</td>\n",
       "      <td>9.780690e+12</td>\n",
       "      <td>Doreen Cronin, Betsy Lewin</td>\n",
       "      <td>1999.0</td>\n",
       "      <td>Click, Clack, Moo: Cows That Type</td>\n",
       "      <td>...</td>\n",
       "      <td>67171</td>\n",
       "      <td>67998</td>\n",
       "      <td>2220</td>\n",
       "      <td>1028</td>\n",
       "      <td>2671</td>\n",
       "      <td>10968</td>\n",
       "      <td>18473</td>\n",
       "      <td>34858</td>\n",
       "      <td>https://images.gr-assets.com/books/1423222939m...</td>\n",
       "      <td>https://images.gr-assets.com/books/1423222939s...</td>\n",
       "    </tr>\n",
       "    <tr>\n",
       "      <th>2</th>\n",
       "      <td>7480</td>\n",
       "      <td>11107244</td>\n",
       "      <td>11107244</td>\n",
       "      <td>16029496</td>\n",
       "      <td>40</td>\n",
       "      <td>670022950</td>\n",
       "      <td>9.780670e+12</td>\n",
       "      <td>Steven Pinker</td>\n",
       "      <td>2010.0</td>\n",
       "      <td>The Better Angels of Our Nature. Why Violence ...</td>\n",
       "      <td>...</td>\n",
       "      <td>11437</td>\n",
       "      <td>12958</td>\n",
       "      <td>1288</td>\n",
       "      <td>302</td>\n",
       "      <td>514</td>\n",
       "      <td>1774</td>\n",
       "      <td>4134</td>\n",
       "      <td>6234</td>\n",
       "      <td>https://images.gr-assets.com/books/1311281857m...</td>\n",
       "      <td>https://images.gr-assets.com/books/1311281857s...</td>\n",
       "    </tr>\n",
       "    <tr>\n",
       "      <th>3</th>\n",
       "      <td>3121</td>\n",
       "      <td>9462812</td>\n",
       "      <td>9462812</td>\n",
       "      <td>10280032</td>\n",
       "      <td>32</td>\n",
       "      <td>62004018</td>\n",
       "      <td>9.780062e+12</td>\n",
       "      <td>Amy Plum</td>\n",
       "      <td>2011.0</td>\n",
       "      <td>Die for Me</td>\n",
       "      <td>...</td>\n",
       "      <td>45756</td>\n",
       "      <td>48246</td>\n",
       "      <td>4319</td>\n",
       "      <td>1373</td>\n",
       "      <td>3235</td>\n",
       "      <td>9396</td>\n",
       "      <td>14472</td>\n",
       "      <td>19770</td>\n",
       "      <td>https://images.gr-assets.com/books/1358427893m...</td>\n",
       "      <td>https://images.gr-assets.com/books/1358427893s...</td>\n",
       "    </tr>\n",
       "    <tr>\n",
       "      <th>4</th>\n",
       "      <td>243</td>\n",
       "      <td>10614</td>\n",
       "      <td>10614</td>\n",
       "      <td>3230869</td>\n",
       "      <td>197</td>\n",
       "      <td>450417395</td>\n",
       "      <td>9.780450e+12</td>\n",
       "      <td>Stephen King</td>\n",
       "      <td>1987.0</td>\n",
       "      <td>Misery</td>\n",
       "      <td>...</td>\n",
       "      <td>334647</td>\n",
       "      <td>352203</td>\n",
       "      <td>6416</td>\n",
       "      <td>4302</td>\n",
       "      <td>12725</td>\n",
       "      <td>64835</td>\n",
       "      <td>128990</td>\n",
       "      <td>141351</td>\n",
       "      <td>https://images.gr-assets.com/books/1270545451m...</td>\n",
       "      <td>https://images.gr-assets.com/books/1270545451s...</td>\n",
       "    </tr>\n",
       "  </tbody>\n",
       "</table>\n",
       "<p>5 rows × 23 columns</p>\n",
       "</div>"
      ],
      "text/plain": [
       "     id   book_id  best_book_id   work_id  books_count       isbn  \\\n",
       "0  1618     95617         95617    883913           36  842377506   \n",
       "1  1635    766955        766955    434352           39  689832133   \n",
       "2  7480  11107244      11107244  16029496           40  670022950   \n",
       "3  3121   9462812       9462812  10280032           32   62004018   \n",
       "4   243     10614         10614   3230869          197  450417395   \n",
       "\n",
       "         isbn13                           authors  original_publication_year  \\\n",
       "0  9.780842e+12  Francine Rivers, Richard Ferrone                     1993.0   \n",
       "1  9.780690e+12        Doreen Cronin, Betsy Lewin                     1999.0   \n",
       "2  9.780670e+12                     Steven Pinker                     2010.0   \n",
       "3  9.780062e+12                          Amy Plum                     2011.0   \n",
       "4  9.780450e+12                      Stephen King                     1987.0   \n",
       "\n",
       "                                      original_title  ... ratings_count  \\\n",
       "0                                A Voice in the Wind  ...         55556   \n",
       "1                  Click, Clack, Moo: Cows That Type  ...         67171   \n",
       "2  The Better Angels of Our Nature. Why Violence ...  ...         11437   \n",
       "3                                         Die for Me  ...         45756   \n",
       "4                                             Misery  ...        334647   \n",
       "\n",
       "  work_ratings_count  work_text_reviews_count  ratings_1  ratings_2  \\\n",
       "0              56920                     2647        680        903   \n",
       "1              67998                     2220       1028       2671   \n",
       "2              12958                     1288        302        514   \n",
       "3              48246                     4319       1373       3235   \n",
       "4             352203                     6416       4302      12725   \n",
       "\n",
       "   ratings_3  ratings_4  ratings_5  \\\n",
       "0       3382      10680      41275   \n",
       "1      10968      18473      34858   \n",
       "2       1774       4134       6234   \n",
       "3       9396      14472      19770   \n",
       "4      64835     128990     141351   \n",
       "\n",
       "                                           image_url  \\\n",
       "0  https://images.gr-assets.com/books/1459567327m...   \n",
       "1  https://images.gr-assets.com/books/1423222939m...   \n",
       "2  https://images.gr-assets.com/books/1311281857m...   \n",
       "3  https://images.gr-assets.com/books/1358427893m...   \n",
       "4  https://images.gr-assets.com/books/1270545451m...   \n",
       "\n",
       "                                     small_image_url  \n",
       "0  https://images.gr-assets.com/books/1459567327s...  \n",
       "1  https://images.gr-assets.com/books/1423222939s...  \n",
       "2  https://images.gr-assets.com/books/1311281857s...  \n",
       "3  https://images.gr-assets.com/books/1358427893s...  \n",
       "4  https://images.gr-assets.com/books/1270545451s...  \n",
       "\n",
       "[5 rows x 23 columns]"
      ]
     },
     "execution_count": 20,
     "metadata": {},
     "output_type": "execute_result"
    }
   ],
   "source": [
    "df_books_1000.head()"
   ]
  },
  {
   "cell_type": "markdown",
   "metadata": {
    "id": "ruDiCPsDTDbr"
   },
   "source": [
    "Suppose a user wants the 10 most 'similar' (from a CBF point of view) movies from the movie 'Alley Cats Strike':"
   ]
  },
  {
   "cell_type": "code",
   "execution_count": 21,
   "metadata": {
    "id": "9oH_oVvmTDbr",
    "outputId": "bf915e8b-ae84-49bc-f80c-e09b64aa953d"
   },
   "outputs": [
    {
     "ename": "IndexError",
     "evalue": "list index out of range",
     "output_type": "error",
     "traceback": [
      "\u001b[1;31m---------------------------------------------------------------------------\u001b[0m",
      "\u001b[1;31mIndexError\u001b[0m                                Traceback (most recent call last)",
      "\u001b[1;32m<ipython-input-21-78c039764f7c>\u001b[0m in \u001b[0;36m<module>\u001b[1;34m\u001b[0m\n\u001b[1;32m----> 1\u001b[1;33m \u001b[0mrecommend\u001b[0m\u001b[1;33m(\u001b[0m\u001b[0mitem_id\u001b[0m\u001b[1;33m=\u001b[0m\u001b[1;36m6545536\u001b[0m\u001b[1;33m,\u001b[0m \u001b[0mnum\u001b[0m\u001b[1;33m=\u001b[0m\u001b[1;36m10\u001b[0m\u001b[1;33m)\u001b[0m\u001b[1;33m\u001b[0m\u001b[1;33m\u001b[0m\u001b[0m\n\u001b[0m",
      "\u001b[1;32m<ipython-input-18-1c1c516cdc91>\u001b[0m in \u001b[0;36mrecommend\u001b[1;34m(item_id, num)\u001b[0m\n\u001b[0;32m      1\u001b[0m \u001b[1;31m# Finally we put everything together here:\u001b[0m\u001b[1;33m\u001b[0m\u001b[1;33m\u001b[0m\u001b[1;33m\u001b[0m\u001b[0m\n\u001b[0;32m      2\u001b[0m \u001b[1;32mdef\u001b[0m \u001b[0mrecommend\u001b[0m\u001b[1;33m(\u001b[0m\u001b[0mitem_id\u001b[0m\u001b[1;33m,\u001b[0m \u001b[0mnum\u001b[0m\u001b[1;33m)\u001b[0m\u001b[1;33m:\u001b[0m\u001b[1;33m\u001b[0m\u001b[1;33m\u001b[0m\u001b[0m\n\u001b[1;32m----> 3\u001b[1;33m     \u001b[0mprint\u001b[0m\u001b[1;33m(\u001b[0m\u001b[1;34m\"Recommending \"\u001b[0m \u001b[1;33m+\u001b[0m \u001b[0mstr\u001b[0m\u001b[1;33m(\u001b[0m\u001b[0mnum\u001b[0m\u001b[1;33m)\u001b[0m \u001b[1;33m+\u001b[0m \u001b[1;34m\" products similar to \"\u001b[0m \u001b[1;33m+\u001b[0m \u001b[0mitem\u001b[0m\u001b[1;33m(\u001b[0m\u001b[0mitem_id\u001b[0m\u001b[1;33m)\u001b[0m \u001b[1;33m+\u001b[0m \u001b[1;34m\"...\"\u001b[0m\u001b[1;33m)\u001b[0m\u001b[1;33m\u001b[0m\u001b[1;33m\u001b[0m\u001b[0m\n\u001b[0m\u001b[0;32m      4\u001b[0m     \u001b[0mprint\u001b[0m\u001b[1;33m(\u001b[0m\u001b[1;34m\"-------\"\u001b[0m\u001b[1;33m)\u001b[0m\u001b[1;33m\u001b[0m\u001b[1;33m\u001b[0m\u001b[0m\n\u001b[0;32m      5\u001b[0m     \u001b[0mrecs\u001b[0m \u001b[1;33m=\u001b[0m \u001b[0mresults\u001b[0m\u001b[1;33m[\u001b[0m\u001b[0mget_idx\u001b[0m\u001b[1;33m(\u001b[0m\u001b[0mitem_id\u001b[0m\u001b[1;33m)\u001b[0m\u001b[1;33m]\u001b[0m\u001b[1;33m[\u001b[0m\u001b[1;33m:\u001b[0m\u001b[0mnum\u001b[0m\u001b[1;33m]\u001b[0m\u001b[1;33m\u001b[0m\u001b[1;33m\u001b[0m\u001b[0m\n",
      "\u001b[1;32m<ipython-input-16-228ce7a6b340>\u001b[0m in \u001b[0;36mitem\u001b[1;34m(id)\u001b[0m\n\u001b[0;32m      1\u001b[0m \u001b[1;31m# transform a 'movieId' into its corresponding movie title\u001b[0m\u001b[1;33m\u001b[0m\u001b[1;33m\u001b[0m\u001b[1;33m\u001b[0m\u001b[0m\n\u001b[0;32m      2\u001b[0m \u001b[1;32mdef\u001b[0m \u001b[0mitem\u001b[0m\u001b[1;33m(\u001b[0m\u001b[0mid\u001b[0m\u001b[1;33m)\u001b[0m\u001b[1;33m:\u001b[0m\u001b[1;33m\u001b[0m\u001b[1;33m\u001b[0m\u001b[0m\n\u001b[1;32m----> 3\u001b[1;33m     \u001b[1;32mreturn\u001b[0m \u001b[0mdf_books_1000\u001b[0m\u001b[1;33m.\u001b[0m\u001b[0mloc\u001b[0m\u001b[1;33m[\u001b[0m\u001b[0mdf_books_1000\u001b[0m\u001b[1;33m[\u001b[0m\u001b[1;34m'book_id'\u001b[0m\u001b[1;33m]\u001b[0m \u001b[1;33m==\u001b[0m \u001b[0mid\u001b[0m\u001b[1;33m]\u001b[0m\u001b[1;33m[\u001b[0m\u001b[1;34m'original_title'\u001b[0m\u001b[1;33m]\u001b[0m\u001b[1;33m.\u001b[0m\u001b[0mtolist\u001b[0m\u001b[1;33m(\u001b[0m\u001b[1;33m)\u001b[0m\u001b[1;33m[\u001b[0m\u001b[1;36m0\u001b[0m\u001b[1;33m]\u001b[0m\u001b[1;33m.\u001b[0m\u001b[0msplit\u001b[0m\u001b[1;33m(\u001b[0m\u001b[1;34m' - '\u001b[0m\u001b[1;33m)\u001b[0m\u001b[1;33m[\u001b[0m\u001b[1;36m0\u001b[0m\u001b[1;33m]\u001b[0m\u001b[1;33m\u001b[0m\u001b[1;33m\u001b[0m\u001b[0m\n\u001b[0m",
      "\u001b[1;31mIndexError\u001b[0m: list index out of range"
     ]
    }
   ],
   "source": [
    "recommend(item_id=6545536, num=10)"
   ]
  },
  {
   "cell_type": "code",
   "execution_count": null,
   "metadata": {},
   "outputs": [],
   "source": []
  }
 ],
 "metadata": {
  "colab": {
   "collapsed_sections": [],
   "name": "1_Demo.ipynb",
   "provenance": []
  },
  "kernelspec": {
   "display_name": "Python 3",
   "language": "python",
   "name": "python3"
  },
  "language_info": {
   "codemirror_mode": {
    "name": "ipython",
    "version": 3
   },
   "file_extension": ".py",
   "mimetype": "text/x-python",
   "name": "python",
   "nbconvert_exporter": "python",
   "pygments_lexer": "ipython3",
   "version": "3.8.10"
  }
 },
 "nbformat": 4,
 "nbformat_minor": 1
}
